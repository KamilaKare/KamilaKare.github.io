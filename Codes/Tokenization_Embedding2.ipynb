{
  "cells": [
    {
      "cell_type": "markdown",
      "metadata": {
        "id": "PkzrYTNJf5l4"
      },
      "source": [
        "# Hands-On with Tokenization and  Embeddings\n",
        "\n",
        "This notebook covered two fundamental concepts in Large Language Models (LLMs)\n",
        "\n",
        "1. Tokenization: The process of splitting text into smaller units called tokens, which can be words or subwords.\n",
        "\n",
        "2. Embeddings: Dense vector representations of words or sentences that capture their semantic meanings."
      ]
    },
    {
      "cell_type": "markdown",
      "metadata": {
        "id": "_4gPl14kOttn"
      },
      "source": [
        "## Tokenization\n",
        "\n",
        "\n"
      ]
    },
    {
      "cell_type": "markdown",
      "metadata": {
        "id": "1ppWU2Z2RJD-"
      },
      "source": [
        "The Tiktokenizer tool (https://tiktokenizer.vercel.app/) is a useful web-based application for exploring tokenization in OpenAI models like GPT.\n",
        "\n",
        "✅ Real-time Tokenization – Instantly see how input text is broken into tokens.\n",
        "\n",
        "✅ Cost Estimation – Shows the number of tokens, useful for estimating API costs in GPT models.\n",
        "\n",
        "✅ Model-Specific Behavior – Allows you to compare how different OpenAI models (e.g., GPT-3.5, GPT-4) tokenize the same text.\n",
        "\n",
        "✅ Visual Debugging – Helpful for understanding token splitting, subword units, and unexpected tokenization behaviors.\n"
      ]
    },
    {
      "cell_type": "markdown",
      "metadata": {
        "id": "-61GAI0YZaNl"
      },
      "source": [
        "## Let us write a naive tokenizer"
      ]
    },
    {
      "cell_type": "code",
      "execution_count": 20,
      "metadata": {
        "id": "ihGPsMypZgPc"
      },
      "outputs": [],
      "source": [
        "corpus = [\"the quick brown fox jumps over the lazy dog\",\n",
        "          \"the dog barks\",\n",
        "          \"the fox runs\"]\n",
        "\n",
        "# Tokenization and vocabulary creation\n",
        "# Split each sentence into words\n",
        "tokens = [sentence.split() for sentence in corpus]\n",
        "# Flatten token list and remove duplicates to create vocabulary\n",
        "vocab = sorted(set(word for sentence in tokens for word in sentence))\n",
        "# Create word-to-index and index-to-word mappings\n",
        "word_to_idx = {word: idx for idx, word in enumerate(vocab)}\n",
        "idx_to_word = {idx: word for word, idx in word_to_idx.items()}\n",
        "vocab_size = len(vocab)"
      ]
    },
    {
      "cell_type": "code",
      "execution_count": 21,
      "metadata": {
        "colab": {
          "base_uri": "https://localhost:8080/"
        },
        "id": "j0hAdtJYaRP1",
        "outputId": "730f6011-34de-4cb8-c752-f6378b0dad59"
      },
      "outputs": [
        {
          "name": "stdout",
          "output_type": "stream",
          "text": [
            "Vocabulary: ['barks', 'brown', 'dog', 'fox', 'jumps', 'lazy', 'over', 'quick', 'runs', 'the']\n",
            "Word to Index Mapping: {'barks': 0, 'brown': 1, 'dog': 2, 'fox': 3, 'jumps': 4, 'lazy': 5, 'over': 6, 'quick': 7, 'runs': 8, 'the': 9}\n",
            "Index to Word Mapping: {0: 'barks', 1: 'brown', 2: 'dog', 3: 'fox', 4: 'jumps', 5: 'lazy', 6: 'over', 7: 'quick', 8: 'runs', 9: 'the'}\n",
            "Vocabulary Size: 10\n"
          ]
        }
      ],
      "source": [
        "# Print results\n",
        "print(\"Vocabulary:\", vocab)\n",
        "print(\"Word to Index Mapping:\", word_to_idx)\n",
        "print(\"Index to Word Mapping:\", idx_to_word)\n",
        "print(\"Vocabulary Size:\", vocab_size)"
      ]
    },
    {
      "cell_type": "markdown",
      "metadata": {
        "id": "ODHdZwh6RxU1"
      },
      "source": [
        "## Now let us explore Tokenizer for an open source model"
      ]
    },
    {
      "cell_type": "code",
      "execution_count": 1,
      "metadata": {
        "colab": {
          "base_uri": "https://localhost:8080/",
          "height": 17,
          "referenced_widgets": [
            "b585053046b14949a7353d1a80776ad0",
            "02de561934a94489810bd412bc637f2e",
            "aeaffbe457164eb8badd3bb5450d7e8f",
            "5cf7972044e8495293ec13ef443bf33a",
            "4357b0f73d8547f2ba3291bf16e1979f",
            "63f5abb675d34633904cd526ee650ccf",
            "2ec44ddf42a6409fbeef6e0c6ae4fa4f",
            "2e748e3e312c41369bb379b79a832613",
            "00eb25bf6b6545f9ab1a9dfbd42c76b7",
            "be722a1b396c460ca55766b373d08e79",
            "58c29d10434146369f2d73371324418a",
            "26aafed10bba44bc9eab67388caed4b4",
            "b61acd61bb5b46caabd43303800878d2",
            "c7fe2a0cc55d486390c7dc23b3c718e1",
            "176ec50503b849a084bc0f16e82db19c",
            "efaaab211b2f410b864b786efc6329d2",
            "bcfd5e96dc1742d9abe4ed3195fdc1f4",
            "d6ddde726d77471b93453b50039ccee7",
            "c0366bd3e64b4c56af894955e90984a1",
            "da5e98bc89824d08bf693992f58410ff"
          ]
        },
        "id": "RlUCUE9EdogC",
        "outputId": "99fd0223-909a-43df-c087-608a3e85adb2"
      },
      "outputs": [
        {
          "data": {
            "application/vnd.jupyter.widget-view+json": {
              "model_id": "b585053046b14949a7353d1a80776ad0",
              "version_major": 2,
              "version_minor": 0
            },
            "text/plain": [
              "VBox(children=(HTML(value='<center> <img\\nsrc=https://huggingface.co/front/assets/huggingface_logo-noborder.sv…"
            ]
          },
          "metadata": {},
          "output_type": "display_data"
        }
      ],
      "source": [
        "from huggingface_hub import notebook_login\n",
        "\n",
        "notebook_login()\n"
      ]
    },
    {
      "cell_type": "code",
      "execution_count": 3,
      "metadata": {
        "id": "ZFboLk9mSx5I"
      },
      "outputs": [],
      "source": [
        "# importing libraries\n",
        "import random\n",
        "import torch\n",
        "from transformers import BertTokenizer, BertModel\n",
        "from sklearn.metrics.pairwise import cosine_similarity"
      ]
    },
    {
      "cell_type": "code",
      "execution_count": 28,
      "metadata": {
        "id": "Z47H6vloSktw"
      },
      "outputs": [],
      "source": [
        "# Load BERT tokenizer\n",
        "bert_tokenizer = BertTokenizer.from_pretrained('bert-base-uncased')"
      ]
    },
    {
      "cell_type": "code",
      "execution_count": 5,
      "metadata": {
        "id": "TflF_yDjS8pP"
      },
      "outputs": [],
      "source": [
        "# Set a random seed\n",
        "random_seed = 42\n",
        "random.seed(random_seed)\n",
        "\n",
        "# Set a random seed for PyTorch (for GPU as well)\n",
        "torch.manual_seed(random_seed)\n",
        "if torch.cuda.is_available():\n",
        "\ttorch.cuda.manual_seed_all(random_seed)"
      ]
    },
    {
      "cell_type": "code",
      "execution_count": 29,
      "metadata": {
        "colab": {
          "base_uri": "https://localhost:8080/"
        },
        "id": "IvQMseZ8S9C_",
        "outputId": "afcbaed8-6547-42b0-d665-d25d825120e2"
      },
      "outputs": [
        {
          "name": "stdout",
          "output_type": "stream",
          "text": [
            "tokenized Text: ['the', 'fire', '##fighter', 'brave', '##ly', 'entered', 'the', 'burning', 'building', ',', 'while', 'the', 'newscast', '##er', 'reported', 'on', 'the', 'un', '##folding', 'events', '.']\n"
          ]
        }
      ],
      "source": [
        "#this code takes a sentence, breaks it down into individual words or subwords using the BERT tokenizer, and then displays the resulting tokens.\n",
        "text = \"The firefighter bravely entered the burning building, while the newscaster reported on the unfolding events.\"\n",
        "\n",
        "# Tokenize the text\n",
        "tokenized_text = bert_tokenizer.tokenize(text)\n",
        "#print tokenized text\n",
        "print(f\"tokenized Text: {tokenized_text}\")\n"
      ]
    },
    {
      "cell_type": "markdown",
      "metadata": {
        "id": "g6_SvsTuT6hT"
      },
      "source": [
        "- Subword Tokenization: BERT uses subword tokenization, meaning it breaks down words into smaller units that can be recombined to form the original word. This allows the model to handle a wider vocabulary, including unseen words, by recognizing patterns in common subword units.\n",
        "\n",
        "- Special Characters: Words with special characters or accents might be split into multiple tokens, as seen with \"cœur\" and \"lointain\".\n",
        "\n",
        "- Punctuation: Punctuation marks are usually treated as individual tokens.\n",
        "\n",
        "- \"##\" Prefix: The \"##\" prefix is used to indicate that a token is a continuation of a previous token and should be combined with it when interpreting the tokenized output."
      ]
    },
    {
      "cell_type": "code",
      "execution_count": 30,
      "metadata": {
        "colab": {
          "base_uri": "https://localhost:8080/"
        },
        "id": "KR2qDePNU3cW",
        "outputId": "4d226cd6-a000-4a4b-cc81-37ed4aa90e60"
      },
      "outputs": [
        {
          "name": "stdout",
          "output_type": "stream",
          "text": [
            "Input ID: tensor([[  101,  1996,  2543, 20027,  9191,  2135,  3133,  1996,  5255,  2311,\n",
            "          1010,  2096,  1996, 20306,  2121,  2988,  2006,  1996,  4895, 21508,\n",
            "          2824,  1012,   102]])\n"
          ]
        }
      ],
      "source": [
        "# Now we will Tokenize and encode text to get the tokens IDs.\n",
        "\n",
        "# The function batch_encode_plus returns a dictionary containing the token IDs and attention masks\n",
        "encoding = bert_tokenizer.batch_encode_plus(\n",
        "\t [text],\t\t\t # List of input texts\n",
        "\tpadding=True,\t\t\t # Pad to the maximum sequence length to ensure that all sentences have the same length.\n",
        "\ttruncation=True,\t\t # Truncate to the maximum sequence length if necessary\n",
        "\treturn_tensors='pt',\t # Return PyTorch tensors\n",
        "\tadd_special_tokens=True # Add special tokens CLS and SEP\n",
        ")\n",
        "\n",
        "input_ids = encoding['input_ids'] # Token IDs\n",
        "# print input IDs\n",
        "print(f\"Input ID: {input_ids}\")"
      ]
    },
    {
      "cell_type": "code",
      "execution_count": 31,
      "metadata": {
        "colab": {
          "base_uri": "https://localhost:8080/"
        },
        "id": "sg4Da9SfS9G1",
        "outputId": "2013b5de-9940-4819-b20d-ff8412e7c73f"
      },
      "outputs": [
        {
          "name": "stdout",
          "output_type": "stream",
          "text": [
            "Decoded Text: the firefighter bravely entered the burning building, while the newscaster reported on the unfolding events.\n"
          ]
        }
      ],
      "source": [
        "# Decode the token IDs back to text\n",
        "decoded_text = bert_tokenizer.decode(input_ids[0], skip_special_tokens=True)\n",
        "#print decoded text\n",
        "print(f\"Decoded Text: {decoded_text}\")"
      ]
    },
    {
      "cell_type": "code",
      "execution_count": 16,
      "metadata": {
        "colab": {
          "base_uri": "https://localhost:8080/"
        },
        "id": "gy7PoFrMS9PM",
        "outputId": "41ad8060-ad18-4b77-c9a4-c6335e571b02"
      },
      "outputs": [
        {
          "name": "stdout",
          "output_type": "stream",
          "text": [
            "Attention mask: tensor([[1, 1, 1, 1, 1, 1, 1, 1, 1, 1, 1, 1, 1, 1, 1, 1, 1, 1, 1, 1, 1, 1, 1]])\n"
          ]
        }
      ],
      "source": [
        "attention_mask = encoding['attention_mask'] # Attention mask\n",
        "# print attention mask\n",
        "print(f\"Attention mask: {attention_mask}\")"
      ]
    },
    {
      "cell_type": "markdown",
      "metadata": {
        "id": "Pg4Hw5CUXVBq"
      },
      "source": [
        "- No Padding: All values in the attention mask being 1 means that every token in the input text is considered relevant and should be attended to. This typically indicates that no padding was applied to the text.\n",
        "- Full Attention: The model will consider and process all the tokens in the sequence without ignoring any of them. Each token will contribute to the overall understanding of the input text."
      ]
    },
    {
      "cell_type": "markdown",
      "metadata": {
        "id": "JOAbYbTUaq8e"
      },
      "source": [
        "## Let us consider a Mistral tokenizer"
      ]
    },
    {
      "cell_type": "code",
      "execution_count": 32,
      "metadata": {
        "id": "VyNjCMYFOq6W"
      },
      "outputs": [],
      "source": [
        "from transformers import  AutoTokenizer\n",
        "BASELINE_MODEL_NAME = \"mistralai/Mistral-7B-Instruct-v0.2\"\n",
        "mistral_tokenizer = AutoTokenizer.from_pretrained(BASELINE_MODEL_NAME)"
      ]
    },
    {
      "cell_type": "code",
      "execution_count": 33,
      "metadata": {
        "colab": {
          "base_uri": "https://localhost:8080/"
        },
        "id": "kegRK_0gPFDv",
        "outputId": "53537845-b699-4853-f304-61b9653b0e6b"
      },
      "outputs": [
        {
          "name": "stdout",
          "output_type": "stream",
          "text": [
            "['▁The', '▁fire', 'fig', 'h', 'ter', '▁br', 'av', 'ely', '▁entered', '▁the', '▁burning', '▁building', ',', '▁while', '▁the', '▁new', 'sc', 'aster', '▁reported', '▁on', '▁the', '▁unf', 'olding', '▁events', '.']\n"
          ]
        }
      ],
      "source": [
        "tokens = mistral_tokenizer.tokenize(text)\n",
        "print(tokens)"
      ]
    },
    {
      "cell_type": "markdown",
      "metadata": {
        "id": "3VZv7tb8bSbP"
      },
      "source": [
        "- Subword Tokenization: Mistral, like many modern tokenizers, uses subword tokenization. This means it breaks down words like \"firefighter\" and \"bravely\" into smaller units (\"fig\", \"h\", \"ter\", \"br\", \"av\", \"ely\"). This allows the model to handle a larger vocabulary and unseen words more effectively.\n",
        "- Spaces: Some tokenizers include leading or trailing spaces as part of the token (e.g., \"' The'\").\n",
        "- Punctuation: Punctuation marks are typically treated as individual tokens."
      ]
    },
    {
      "cell_type": "code",
      "execution_count": 34,
      "metadata": {
        "colab": {
          "base_uri": "https://localhost:8080/"
        },
        "id": "XkXTnNEFPLBq",
        "outputId": "10a15b92-9f30-4156-e602-7a6cf0f93915"
      },
      "outputs": [
        {
          "name": "stdout",
          "output_type": "stream",
          "text": [
            "[415, 3339, 885, 28716, 360, 1170, 494, 723, 8426, 272, 13136, 3667, 28725, 1312, 272, 633, 824, 1993, 5745, 356, 272, 10077, 25107, 3926, 28723]\n"
          ]
        }
      ],
      "source": [
        "ids = mistral_tokenizer.convert_tokens_to_ids(tokens)\n",
        "print(ids)"
      ]
    },
    {
      "cell_type": "code",
      "execution_count": 35,
      "metadata": {
        "colab": {
          "base_uri": "https://localhost:8080/"
        },
        "id": "zZk4JmDmPONE",
        "outputId": "f4dd86cb-b2c4-4a1a-8927-0b376966f363"
      },
      "outputs": [
        {
          "name": "stdout",
          "output_type": "stream",
          "text": [
            "The firefighter bravely entered the burning building, while the newscaster reported on the unfolding events.\n"
          ]
        }
      ],
      "source": [
        "decoded_string = mistral_tokenizer.decode(ids)\n",
        "print(decoded_string)"
      ]
    },
    {
      "cell_type": "markdown",
      "metadata": {
        "id": "utu5Er4CbyS-"
      },
      "source": [
        "# Words Embeddings"
      ]
    },
    {
      "cell_type": "code",
      "execution_count": 27,
      "metadata": {
        "colab": {
          "base_uri": "https://localhost:8080/",
          "height": 49,
          "referenced_widgets": [
            "3c5d9e9261984bf9bafd5954f7859d5e",
            "589e83a5d0dc41d8bc43553ce021360d",
            "02117f066b414b7a87b979305fa390e6",
            "59275f9409ff4cf29eec67d42e5e3a4e",
            "452a9025943c45a7a2601b8501c332fc",
            "b222dd859da94bae9e9fa4c9ea4bad18",
            "9a8dc6c6b4d64b5f890d06d89ab415b8",
            "da9f7ab1c1364dee88ea0966eb20d80d",
            "4569ae1cd5da4fdb83c1ed7ec1471c8e",
            "4e819be4ce8f47e486f225af5a2f8bf8",
            "bc468eb661ab487684c989bc5010558a"
          ]
        },
        "id": "-3Thmikmb8UW",
        "outputId": "fdc40754-cfec-4787-c9c8-d5888ba1eae8"
      },
      "outputs": [
        {
          "data": {
            "application/vnd.jupyter.widget-view+json": {
              "model_id": "3c5d9e9261984bf9bafd5954f7859d5e",
              "version_major": 2,
              "version_minor": 0
            },
            "text/plain": [
              "model.safetensors:   0%|          | 0.00/440M [00:00<?, ?B/s]"
            ]
          },
          "metadata": {},
          "output_type": "display_data"
        }
      ],
      "source": [
        "# Load BERT model\n",
        "model = BertModel.from_pretrained('bert-base-uncased')"
      ]
    },
    {
      "cell_type": "code",
      "execution_count": 36,
      "metadata": {
        "colab": {
          "base_uri": "https://localhost:8080/"
        },
        "id": "DJ5VwHfFcEoH",
        "outputId": "02131520-3dcd-4ea1-a3c4-8dc6b42ec2b7"
      },
      "outputs": [
        {
          "name": "stdout",
          "output_type": "stream",
          "text": [
            "Shape of Word Embeddings: torch.Size([1, 23, 768])\n"
          ]
        }
      ],
      "source": [
        "# Generate embeddings using BERT model\n",
        "with torch.no_grad():\n",
        "\toutputs = model(input_ids, attention_mask=attention_mask)\n",
        "\tword_embeddings = outputs.last_hidden_state # This contains the embeddings\n",
        "\n",
        "# Output the shape of word embeddings\n",
        "print(f\"Shape of Word Embeddings: {word_embeddings.shape}\")"
      ]
    },
    {
      "cell_type": "markdown",
      "metadata": {
        "id": "J1uzvbH5bjoz"
      },
      "source": [
        " The shape is a tensor with dimensions representing [batch size, sequence length, embedding dimension]. Here, our the dimension of the embedding space is 768."
      ]
    },
    {
      "cell_type": "code",
      "execution_count": 40,
      "metadata": {
        "colab": {
          "base_uri": "https://localhost:8080/"
        },
        "id": "TMrryF7ndrGi",
        "outputId": "ac45f074-9830-4310-9f8b-8c32ae32333e"
      },
      "outputs": [
        {
          "name": "stdout",
          "output_type": "stream",
          "text": [
            "tensor([-0.1181, -0.2146,  0.1180,  0.0116,  0.1689, -0.4654,  0.3359,  0.4142,\n",
            "         0.5390,  0.1416,  0.0765, -0.1458, -0.3116,  0.5731,  0.4801,  0.3392,\n",
            "        -0.4910,  0.5232,  0.3460, -0.2849])\n"
          ]
        }
      ],
      "source": [
        "# You can print the embedding of the first token \"the\". Let us output only the 20 first coordinate.\n",
        "print(word_embeddings[0][0][:20])"
      ]
    },
    {
      "cell_type": "code",
      "execution_count": 41,
      "metadata": {
        "colab": {
          "base_uri": "https://localhost:8080/"
        },
        "id": "4WQEAzq-ebnv",
        "outputId": "aeae83d0-141b-4018-f161-d9f426a75d60"
      },
      "outputs": [
        {
          "name": "stdout",
          "output_type": "stream",
          "text": [
            "Shape of Sentence Embedding: torch.Size([1, 768])\n"
          ]
        }
      ],
      "source": [
        "# Compute the average of word embeddings to get the sentence embedding\n",
        "sentence_embedding = word_embeddings.mean(dim=1) # Average pooling along the sequence length dimension\n",
        "\n",
        "# Output the shape of the sentence embedding\n",
        "print(f\"Shape of Sentence Embedding: {sentence_embedding.shape}\")"
      ]
    },
    {
      "cell_type": "code",
      "execution_count": 43,
      "metadata": {
        "colab": {
          "base_uri": "https://localhost:8080/"
        },
        "id": "xKJPHdWle0jX",
        "outputId": "34bba169-818a-41fe-f415-f7221ab892d6"
      },
      "outputs": [
        {
          "name": "stdout",
          "output_type": "stream",
          "text": [
            "Cosine similarity between : 'That is a happy person' and 'Today is a sunny day': 0.649\n",
            "Cosine similarity between : 'That is a happy person' and 'That is a very happy person': 0.928\n",
            "Cosine similarity between : 'That is a happy person' and 'That is a happy dog': 0.852\n"
          ]
        }
      ],
      "source": [
        "# Let us compare the semantinc meaning of the following sentences using the bert model\n",
        "\n",
        "sentences = [\"That is a happy person\", \"Today is a sunny day\", \"That is a very happy person\", \"That is a happy dog\"]\n",
        "\n",
        "# Tokenize and encode the example sentence\n",
        "sentences_encoding = bert_tokenizer.batch_encode_plus(\n",
        "\tsentences,\n",
        "\tpadding=True,\n",
        "\ttruncation=True,\n",
        "\treturn_tensors='pt',\n",
        "\tadd_special_tokens=True\n",
        ")\n",
        "sentences_input_ids = sentences_encoding['input_ids']\n",
        "sentences_attention_mask = sentences_encoding['attention_mask']\n",
        "\n",
        "# Generate embeddings for the sentences\n",
        "with torch.no_grad():\n",
        "\tsentences_outputs = model(sentences_input_ids, attention_mask=sentences_attention_mask)\n",
        "\tsentences_embedding = sentences_outputs.last_hidden_state.mean(dim=1)\n",
        "\n",
        "# Compute cosine similarity between the first sentence embedding and the others\n",
        "for i in range(1, 4):\n",
        "    similarity = cosine_similarity([sentences_embedding[0]], [sentences_embedding[i]])[0][0]\n",
        "    print(f\"Cosine similarity between : '{sentences[0]}' and '{sentences[i]}': {similarity:.3f}\")"
      ]
    },
    {
      "cell_type": "markdown",
      "metadata": {
        "id": "WSk7Fu6KQcRF"
      },
      "source": [
        "# Embedding on your own data using a NN\n"
      ]
    },
    {
      "cell_type": "code",
      "execution_count": 47,
      "metadata": {
        "colab": {
          "base_uri": "https://localhost:8080/"
        },
        "id": "J9TQHmAxPyZK",
        "outputId": "c512dc36-4d36-459c-dc3b-e858a7e65de0"
      },
      "outputs": [
        {
          "data": {
            "text/plain": [
              "[['The', 'cat', 'sat', 'on', 'the', 'mat'],\n",
              " ['The', 'dog', 'chased', 'the', 'ball', 'in', 'the', 'park'],\n",
              " ['Birds', 'sing', 'beautiful', 'songs', 'in', 'the', 'morning.'],\n",
              " ['The', 'sun', 'shines', 'brightly', 'during', 'the', 'day.']]"
            ]
          },
          "execution_count": 47,
          "metadata": {},
          "output_type": "execute_result"
        }
      ],
      "source": [
        "import torch\n",
        "import torch.nn as nn\n",
        "\n",
        "# Toy dataset (replace with your own data)\n",
        "corpus = [\"The cat sat on the mat\", \"The dog chased the ball in the park\",\n",
        "          \"Birds sing beautiful songs in the morning.\", \"The sun shines brightly during the day.\"]\n",
        "\n",
        "# Tokenization (split sentences into words)\n",
        "tokens = [sentence.split() for sentence in corpus]\n",
        "\n",
        "tokens\n"
      ]
    },
    {
      "cell_type": "code",
      "execution_count": 48,
      "metadata": {
        "colab": {
          "base_uri": "https://localhost:8080/"
        },
        "id": "HBitrrzQPycT",
        "outputId": "ffad47dd-8783-4086-f455-222599dd9df6"
      },
      "outputs": [
        {
          "name": "stdout",
          "output_type": "stream",
          "text": [
            "{'sun', 'The', 'morning.', 'chased', 'day.', 'cat', 'park', 'shines', 'beautiful', 'Birds', 'sing', 'sat', 'songs', 'ball', 'the', 'mat', 'during', 'in', 'brightly', 'on', 'dog'}\n",
            "{'sun': 0, 'The': 1, 'morning.': 2, 'chased': 3, 'day.': 4, 'cat': 5, 'park': 6, 'shines': 7, 'beautiful': 8, 'Birds': 9, 'sing': 10, 'sat': 11, 'songs': 12, 'ball': 13, 'the': 14, 'mat': 15, 'during': 16, 'in': 17, 'brightly': 18, 'on': 19, 'dog': 20}\n"
          ]
        }
      ],
      "source": [
        "vocab = set(word for sentence in tokens for word in sentence)\n",
        "word_to_idx = {word: idx for idx, word in enumerate(vocab)}\n",
        "print(vocab)\n",
        "print(word_to_idx)"
      ]
    },
    {
      "cell_type": "code",
      "execution_count": 68,
      "metadata": {
        "colab": {
          "base_uri": "https://localhost:8080/"
        },
        "id": "wtQS8ayUPye-",
        "outputId": "f11c7aee-ec1f-41ab-f3d1-7cb12eeddd7c"
      },
      "outputs": [
        {
          "name": "stdout",
          "output_type": "stream",
          "text": [
            "Embedding for 'cat': tensor([ 1.8723, -0.4072, -0.2770, -0.1821,  0.5865,  0.2617,  0.5766, -0.7246,\n",
            "         0.3305, -0.5248,  2.2697, -0.8297, -1.4333, -0.3883,  0.5718, -0.7854,\n",
            "        -0.2839,  0.0305,  0.8492,  0.2427], grad_fn=<SliceBackward0>)\n",
            "torch.Size([1, 100])\n"
          ]
        }
      ],
      "source": [
        "# Create a vocabulary and assign unique token IDs\n",
        "\n",
        "# Hyperparameters\n",
        "vocab_size = len(vocab)\n",
        "embedding_dim = 100\n",
        "\n",
        "# Initialize an embedding layer\n",
        "embedding_layer = nn.Embedding(vocab_size, embedding_dim)\n",
        "\n",
        "# Example: Get embeddings for the word \"cat\"\n",
        "word_idx = word_to_idx[\"cat\"]\n",
        "word_embedding = embedding_layer(torch.tensor([word_idx], dtype=torch.long)) #  to obtain the embedding for the word \"cat\" by essentially performing a lookup in the matrix\n",
        "\n",
        "print(f\"Embedding for 'cat': {word_embedding[0][:20]}\")\n",
        "print(word_embedding.shape)\n"
      ]
    },
    {
      "cell_type": "code",
      "execution_count": 67,
      "metadata": {
        "colab": {
          "base_uri": "https://localhost:8080/"
        },
        "id": "vE73FHg6jK39",
        "outputId": "2a053144-cdbd-4bdc-e6f9-20bb0121799a"
      },
      "outputs": [
        {
          "data": {
            "text/plain": [
              "tensor([ 0.6007,  0.9561, -0.3089,  0.6745,  0.8899, -2.0931, -1.4284, -0.6044,\n",
              "        -1.6035, -0.2440, -0.2733,  0.6231,  0.7620, -1.1159,  0.3083, -0.5413,\n",
              "         0.1813,  1.3681,  1.2292,  1.9382], grad_fn=<SliceBackward0>)"
            ]
          },
          "execution_count": 67,
          "metadata": {},
          "output_type": "execute_result"
        }
      ],
      "source": [
        "# Another way of  obtaining that embedding\n",
        "embedding_layer.weight[word_idx][:20]"
      ]
    },
    {
      "cell_type": "code",
      "execution_count": null,
      "metadata": {
        "id": "8eQXAIWcjmTi"
      },
      "outputs": [],
      "source": []
    }
  ],
  "metadata": {
    "colab": {
      "provenance": []
    },
    "kernelspec": {
      "display_name": "Python 3",
      "name": "python3"
    },
    "language_info": {
      "name": "python"
    },
    "widgets": {
      "application/vnd.jupyter.widget-state+json": {
        "00eb25bf6b6545f9ab1a9dfbd42c76b7": {
          "model_module": "@jupyter-widgets/controls",
          "model_module_version": "1.5.0",
          "model_name": "DescriptionStyleModel",
          "state": {
            "_model_module": "@jupyter-widgets/controls",
            "_model_module_version": "1.5.0",
            "_model_name": "DescriptionStyleModel",
            "_view_count": null,
            "_view_module": "@jupyter-widgets/base",
            "_view_module_version": "1.2.0",
            "_view_name": "StyleView",
            "description_width": ""
          }
        },
        "02117f066b414b7a87b979305fa390e6": {
          "model_module": "@jupyter-widgets/controls",
          "model_module_version": "1.5.0",
          "model_name": "FloatProgressModel",
          "state": {
            "_dom_classes": [],
            "_model_module": "@jupyter-widgets/controls",
            "_model_module_version": "1.5.0",
            "_model_name": "FloatProgressModel",
            "_view_count": null,
            "_view_module": "@jupyter-widgets/controls",
            "_view_module_version": "1.5.0",
            "_view_name": "ProgressView",
            "bar_style": "success",
            "description": "",
            "description_tooltip": null,
            "layout": "IPY_MODEL_da9f7ab1c1364dee88ea0966eb20d80d",
            "max": 440449768,
            "min": 0,
            "orientation": "horizontal",
            "style": "IPY_MODEL_4569ae1cd5da4fdb83c1ed7ec1471c8e",
            "value": 440449768
          }
        },
        "02de561934a94489810bd412bc637f2e": {
          "model_module": "@jupyter-widgets/controls",
          "model_module_version": "1.5.0",
          "model_name": "HTMLModel",
          "state": {
            "_dom_classes": [],
            "_model_module": "@jupyter-widgets/controls",
            "_model_module_version": "1.5.0",
            "_model_name": "HTMLModel",
            "_view_count": null,
            "_view_module": "@jupyter-widgets/controls",
            "_view_module_version": "1.5.0",
            "_view_name": "HTMLView",
            "description": "",
            "description_tooltip": null,
            "layout": "IPY_MODEL_2e748e3e312c41369bb379b79a832613",
            "placeholder": "​",
            "style": "IPY_MODEL_00eb25bf6b6545f9ab1a9dfbd42c76b7",
            "value": "<center> <img\nsrc=https://huggingface.co/front/assets/huggingface_logo-noborder.svg\nalt='Hugging Face'> <br> Copy a token from <a\nhref=\"https://huggingface.co/settings/tokens\" target=\"_blank\">your Hugging Face\ntokens page</a> and paste it below. <br> Immediately click login after copying\nyour token or it might be stored in plain text in this notebook file. </center>"
          }
        },
        "176ec50503b849a084bc0f16e82db19c": {
          "model_module": "@jupyter-widgets/controls",
          "model_module_version": "1.5.0",
          "model_name": "ButtonStyleModel",
          "state": {
            "_model_module": "@jupyter-widgets/controls",
            "_model_module_version": "1.5.0",
            "_model_name": "ButtonStyleModel",
            "_view_count": null,
            "_view_module": "@jupyter-widgets/base",
            "_view_module_version": "1.2.0",
            "_view_name": "StyleView",
            "button_color": null,
            "font_weight": ""
          }
        },
        "26aafed10bba44bc9eab67388caed4b4": {
          "model_module": "@jupyter-widgets/base",
          "model_module_version": "1.2.0",
          "model_name": "LayoutModel",
          "state": {
            "_model_module": "@jupyter-widgets/base",
            "_model_module_version": "1.2.0",
            "_model_name": "LayoutModel",
            "_view_count": null,
            "_view_module": "@jupyter-widgets/base",
            "_view_module_version": "1.2.0",
            "_view_name": "LayoutView",
            "align_content": null,
            "align_items": null,
            "align_self": null,
            "border": null,
            "bottom": null,
            "display": null,
            "flex": null,
            "flex_flow": null,
            "grid_area": null,
            "grid_auto_columns": null,
            "grid_auto_flow": null,
            "grid_auto_rows": null,
            "grid_column": null,
            "grid_gap": null,
            "grid_row": null,
            "grid_template_areas": null,
            "grid_template_columns": null,
            "grid_template_rows": null,
            "height": null,
            "justify_content": null,
            "justify_items": null,
            "left": null,
            "margin": null,
            "max_height": null,
            "max_width": null,
            "min_height": null,
            "min_width": null,
            "object_fit": null,
            "object_position": null,
            "order": null,
            "overflow": null,
            "overflow_x": null,
            "overflow_y": null,
            "padding": null,
            "right": null,
            "top": null,
            "visibility": null,
            "width": null
          }
        },
        "2e748e3e312c41369bb379b79a832613": {
          "model_module": "@jupyter-widgets/base",
          "model_module_version": "1.2.0",
          "model_name": "LayoutModel",
          "state": {
            "_model_module": "@jupyter-widgets/base",
            "_model_module_version": "1.2.0",
            "_model_name": "LayoutModel",
            "_view_count": null,
            "_view_module": "@jupyter-widgets/base",
            "_view_module_version": "1.2.0",
            "_view_name": "LayoutView",
            "align_content": null,
            "align_items": null,
            "align_self": null,
            "border": null,
            "bottom": null,
            "display": null,
            "flex": null,
            "flex_flow": null,
            "grid_area": null,
            "grid_auto_columns": null,
            "grid_auto_flow": null,
            "grid_auto_rows": null,
            "grid_column": null,
            "grid_gap": null,
            "grid_row": null,
            "grid_template_areas": null,
            "grid_template_columns": null,
            "grid_template_rows": null,
            "height": null,
            "justify_content": null,
            "justify_items": null,
            "left": null,
            "margin": null,
            "max_height": null,
            "max_width": null,
            "min_height": null,
            "min_width": null,
            "object_fit": null,
            "object_position": null,
            "order": null,
            "overflow": null,
            "overflow_x": null,
            "overflow_y": null,
            "padding": null,
            "right": null,
            "top": null,
            "visibility": null,
            "width": null
          }
        },
        "2ec44ddf42a6409fbeef6e0c6ae4fa4f": {
          "model_module": "@jupyter-widgets/base",
          "model_module_version": "1.2.0",
          "model_name": "LayoutModel",
          "state": {
            "_model_module": "@jupyter-widgets/base",
            "_model_module_version": "1.2.0",
            "_model_name": "LayoutModel",
            "_view_count": null,
            "_view_module": "@jupyter-widgets/base",
            "_view_module_version": "1.2.0",
            "_view_name": "LayoutView",
            "align_content": null,
            "align_items": "center",
            "align_self": null,
            "border": null,
            "bottom": null,
            "display": "flex",
            "flex": null,
            "flex_flow": "column",
            "grid_area": null,
            "grid_auto_columns": null,
            "grid_auto_flow": null,
            "grid_auto_rows": null,
            "grid_column": null,
            "grid_gap": null,
            "grid_row": null,
            "grid_template_areas": null,
            "grid_template_columns": null,
            "grid_template_rows": null,
            "height": null,
            "justify_content": null,
            "justify_items": null,
            "left": null,
            "margin": null,
            "max_height": null,
            "max_width": null,
            "min_height": null,
            "min_width": null,
            "object_fit": null,
            "object_position": null,
            "order": null,
            "overflow": null,
            "overflow_x": null,
            "overflow_y": null,
            "padding": null,
            "right": null,
            "top": null,
            "visibility": null,
            "width": "50%"
          }
        },
        "3c5d9e9261984bf9bafd5954f7859d5e": {
          "model_module": "@jupyter-widgets/controls",
          "model_module_version": "1.5.0",
          "model_name": "HBoxModel",
          "state": {
            "_dom_classes": [],
            "_model_module": "@jupyter-widgets/controls",
            "_model_module_version": "1.5.0",
            "_model_name": "HBoxModel",
            "_view_count": null,
            "_view_module": "@jupyter-widgets/controls",
            "_view_module_version": "1.5.0",
            "_view_name": "HBoxView",
            "box_style": "",
            "children": [
              "IPY_MODEL_589e83a5d0dc41d8bc43553ce021360d",
              "IPY_MODEL_02117f066b414b7a87b979305fa390e6",
              "IPY_MODEL_59275f9409ff4cf29eec67d42e5e3a4e"
            ],
            "layout": "IPY_MODEL_452a9025943c45a7a2601b8501c332fc"
          }
        },
        "4357b0f73d8547f2ba3291bf16e1979f": {
          "model_module": "@jupyter-widgets/controls",
          "model_module_version": "1.5.0",
          "model_name": "ButtonModel",
          "state": {
            "_dom_classes": [],
            "_model_module": "@jupyter-widgets/controls",
            "_model_module_version": "1.5.0",
            "_model_name": "ButtonModel",
            "_view_count": null,
            "_view_module": "@jupyter-widgets/controls",
            "_view_module_version": "1.5.0",
            "_view_name": "ButtonView",
            "button_style": "",
            "description": "Login",
            "disabled": false,
            "icon": "",
            "layout": "IPY_MODEL_c7fe2a0cc55d486390c7dc23b3c718e1",
            "style": "IPY_MODEL_176ec50503b849a084bc0f16e82db19c",
            "tooltip": ""
          }
        },
        "452a9025943c45a7a2601b8501c332fc": {
          "model_module": "@jupyter-widgets/base",
          "model_module_version": "1.2.0",
          "model_name": "LayoutModel",
          "state": {
            "_model_module": "@jupyter-widgets/base",
            "_model_module_version": "1.2.0",
            "_model_name": "LayoutModel",
            "_view_count": null,
            "_view_module": "@jupyter-widgets/base",
            "_view_module_version": "1.2.0",
            "_view_name": "LayoutView",
            "align_content": null,
            "align_items": null,
            "align_self": null,
            "border": null,
            "bottom": null,
            "display": null,
            "flex": null,
            "flex_flow": null,
            "grid_area": null,
            "grid_auto_columns": null,
            "grid_auto_flow": null,
            "grid_auto_rows": null,
            "grid_column": null,
            "grid_gap": null,
            "grid_row": null,
            "grid_template_areas": null,
            "grid_template_columns": null,
            "grid_template_rows": null,
            "height": null,
            "justify_content": null,
            "justify_items": null,
            "left": null,
            "margin": null,
            "max_height": null,
            "max_width": null,
            "min_height": null,
            "min_width": null,
            "object_fit": null,
            "object_position": null,
            "order": null,
            "overflow": null,
            "overflow_x": null,
            "overflow_y": null,
            "padding": null,
            "right": null,
            "top": null,
            "visibility": null,
            "width": null
          }
        },
        "4569ae1cd5da4fdb83c1ed7ec1471c8e": {
          "model_module": "@jupyter-widgets/controls",
          "model_module_version": "1.5.0",
          "model_name": "ProgressStyleModel",
          "state": {
            "_model_module": "@jupyter-widgets/controls",
            "_model_module_version": "1.5.0",
            "_model_name": "ProgressStyleModel",
            "_view_count": null,
            "_view_module": "@jupyter-widgets/base",
            "_view_module_version": "1.2.0",
            "_view_name": "StyleView",
            "bar_color": null,
            "description_width": ""
          }
        },
        "4e819be4ce8f47e486f225af5a2f8bf8": {
          "model_module": "@jupyter-widgets/base",
          "model_module_version": "1.2.0",
          "model_name": "LayoutModel",
          "state": {
            "_model_module": "@jupyter-widgets/base",
            "_model_module_version": "1.2.0",
            "_model_name": "LayoutModel",
            "_view_count": null,
            "_view_module": "@jupyter-widgets/base",
            "_view_module_version": "1.2.0",
            "_view_name": "LayoutView",
            "align_content": null,
            "align_items": null,
            "align_self": null,
            "border": null,
            "bottom": null,
            "display": null,
            "flex": null,
            "flex_flow": null,
            "grid_area": null,
            "grid_auto_columns": null,
            "grid_auto_flow": null,
            "grid_auto_rows": null,
            "grid_column": null,
            "grid_gap": null,
            "grid_row": null,
            "grid_template_areas": null,
            "grid_template_columns": null,
            "grid_template_rows": null,
            "height": null,
            "justify_content": null,
            "justify_items": null,
            "left": null,
            "margin": null,
            "max_height": null,
            "max_width": null,
            "min_height": null,
            "min_width": null,
            "object_fit": null,
            "object_position": null,
            "order": null,
            "overflow": null,
            "overflow_x": null,
            "overflow_y": null,
            "padding": null,
            "right": null,
            "top": null,
            "visibility": null,
            "width": null
          }
        },
        "589e83a5d0dc41d8bc43553ce021360d": {
          "model_module": "@jupyter-widgets/controls",
          "model_module_version": "1.5.0",
          "model_name": "HTMLModel",
          "state": {
            "_dom_classes": [],
            "_model_module": "@jupyter-widgets/controls",
            "_model_module_version": "1.5.0",
            "_model_name": "HTMLModel",
            "_view_count": null,
            "_view_module": "@jupyter-widgets/controls",
            "_view_module_version": "1.5.0",
            "_view_name": "HTMLView",
            "description": "",
            "description_tooltip": null,
            "layout": "IPY_MODEL_b222dd859da94bae9e9fa4c9ea4bad18",
            "placeholder": "​",
            "style": "IPY_MODEL_9a8dc6c6b4d64b5f890d06d89ab415b8",
            "value": "model.safetensors: 100%"
          }
        },
        "58c29d10434146369f2d73371324418a": {
          "model_module": "@jupyter-widgets/controls",
          "model_module_version": "1.5.0",
          "model_name": "DescriptionStyleModel",
          "state": {
            "_model_module": "@jupyter-widgets/controls",
            "_model_module_version": "1.5.0",
            "_model_name": "DescriptionStyleModel",
            "_view_count": null,
            "_view_module": "@jupyter-widgets/base",
            "_view_module_version": "1.2.0",
            "_view_name": "StyleView",
            "description_width": ""
          }
        },
        "59275f9409ff4cf29eec67d42e5e3a4e": {
          "model_module": "@jupyter-widgets/controls",
          "model_module_version": "1.5.0",
          "model_name": "HTMLModel",
          "state": {
            "_dom_classes": [],
            "_model_module": "@jupyter-widgets/controls",
            "_model_module_version": "1.5.0",
            "_model_name": "HTMLModel",
            "_view_count": null,
            "_view_module": "@jupyter-widgets/controls",
            "_view_module_version": "1.5.0",
            "_view_name": "HTMLView",
            "description": "",
            "description_tooltip": null,
            "layout": "IPY_MODEL_4e819be4ce8f47e486f225af5a2f8bf8",
            "placeholder": "​",
            "style": "IPY_MODEL_bc468eb661ab487684c989bc5010558a",
            "value": " 440M/440M [00:08&lt;00:00, 46.6MB/s]"
          }
        },
        "5cf7972044e8495293ec13ef443bf33a": {
          "model_module": "@jupyter-widgets/controls",
          "model_module_version": "1.5.0",
          "model_name": "CheckboxModel",
          "state": {
            "_dom_classes": [],
            "_model_module": "@jupyter-widgets/controls",
            "_model_module_version": "1.5.0",
            "_model_name": "CheckboxModel",
            "_view_count": null,
            "_view_module": "@jupyter-widgets/controls",
            "_view_module_version": "1.5.0",
            "_view_name": "CheckboxView",
            "description": "Add token as git credential?",
            "description_tooltip": null,
            "disabled": false,
            "indent": true,
            "layout": "IPY_MODEL_26aafed10bba44bc9eab67388caed4b4",
            "style": "IPY_MODEL_b61acd61bb5b46caabd43303800878d2",
            "value": true
          }
        },
        "63f5abb675d34633904cd526ee650ccf": {
          "model_module": "@jupyter-widgets/controls",
          "model_module_version": "1.5.0",
          "model_name": "HTMLModel",
          "state": {
            "_dom_classes": [],
            "_model_module": "@jupyter-widgets/controls",
            "_model_module_version": "1.5.0",
            "_model_name": "HTMLModel",
            "_view_count": null,
            "_view_module": "@jupyter-widgets/controls",
            "_view_module_version": "1.5.0",
            "_view_name": "HTMLView",
            "description": "",
            "description_tooltip": null,
            "layout": "IPY_MODEL_efaaab211b2f410b864b786efc6329d2",
            "placeholder": "​",
            "style": "IPY_MODEL_bcfd5e96dc1742d9abe4ed3195fdc1f4",
            "value": "\n<b>Pro Tip:</b> If you don't already have one, you can create a dedicated\n'notebooks' token with 'write' access, that you can then easily reuse for all\nnotebooks. </center>"
          }
        },
        "9a8dc6c6b4d64b5f890d06d89ab415b8": {
          "model_module": "@jupyter-widgets/controls",
          "model_module_version": "1.5.0",
          "model_name": "DescriptionStyleModel",
          "state": {
            "_model_module": "@jupyter-widgets/controls",
            "_model_module_version": "1.5.0",
            "_model_name": "DescriptionStyleModel",
            "_view_count": null,
            "_view_module": "@jupyter-widgets/base",
            "_view_module_version": "1.2.0",
            "_view_name": "StyleView",
            "description_width": ""
          }
        },
        "aeaffbe457164eb8badd3bb5450d7e8f": {
          "model_module": "@jupyter-widgets/controls",
          "model_module_version": "1.5.0",
          "model_name": "PasswordModel",
          "state": {
            "_dom_classes": [],
            "_model_module": "@jupyter-widgets/controls",
            "_model_module_version": "1.5.0",
            "_model_name": "PasswordModel",
            "_view_count": null,
            "_view_module": "@jupyter-widgets/controls",
            "_view_module_version": "1.5.0",
            "_view_name": "PasswordView",
            "continuous_update": true,
            "description": "Token:",
            "description_tooltip": null,
            "disabled": false,
            "layout": "IPY_MODEL_be722a1b396c460ca55766b373d08e79",
            "placeholder": "​",
            "style": "IPY_MODEL_58c29d10434146369f2d73371324418a",
            "value": ""
          }
        },
        "b222dd859da94bae9e9fa4c9ea4bad18": {
          "model_module": "@jupyter-widgets/base",
          "model_module_version": "1.2.0",
          "model_name": "LayoutModel",
          "state": {
            "_model_module": "@jupyter-widgets/base",
            "_model_module_version": "1.2.0",
            "_model_name": "LayoutModel",
            "_view_count": null,
            "_view_module": "@jupyter-widgets/base",
            "_view_module_version": "1.2.0",
            "_view_name": "LayoutView",
            "align_content": null,
            "align_items": null,
            "align_self": null,
            "border": null,
            "bottom": null,
            "display": null,
            "flex": null,
            "flex_flow": null,
            "grid_area": null,
            "grid_auto_columns": null,
            "grid_auto_flow": null,
            "grid_auto_rows": null,
            "grid_column": null,
            "grid_gap": null,
            "grid_row": null,
            "grid_template_areas": null,
            "grid_template_columns": null,
            "grid_template_rows": null,
            "height": null,
            "justify_content": null,
            "justify_items": null,
            "left": null,
            "margin": null,
            "max_height": null,
            "max_width": null,
            "min_height": null,
            "min_width": null,
            "object_fit": null,
            "object_position": null,
            "order": null,
            "overflow": null,
            "overflow_x": null,
            "overflow_y": null,
            "padding": null,
            "right": null,
            "top": null,
            "visibility": null,
            "width": null
          }
        },
        "b585053046b14949a7353d1a80776ad0": {
          "model_module": "@jupyter-widgets/controls",
          "model_module_version": "1.5.0",
          "model_name": "VBoxModel",
          "state": {
            "_dom_classes": [],
            "_model_module": "@jupyter-widgets/controls",
            "_model_module_version": "1.5.0",
            "_model_name": "VBoxModel",
            "_view_count": null,
            "_view_module": "@jupyter-widgets/controls",
            "_view_module_version": "1.5.0",
            "_view_name": "VBoxView",
            "box_style": "",
            "children": [],
            "layout": "IPY_MODEL_2ec44ddf42a6409fbeef6e0c6ae4fa4f"
          }
        },
        "b61acd61bb5b46caabd43303800878d2": {
          "model_module": "@jupyter-widgets/controls",
          "model_module_version": "1.5.0",
          "model_name": "DescriptionStyleModel",
          "state": {
            "_model_module": "@jupyter-widgets/controls",
            "_model_module_version": "1.5.0",
            "_model_name": "DescriptionStyleModel",
            "_view_count": null,
            "_view_module": "@jupyter-widgets/base",
            "_view_module_version": "1.2.0",
            "_view_name": "StyleView",
            "description_width": ""
          }
        },
        "bc468eb661ab487684c989bc5010558a": {
          "model_module": "@jupyter-widgets/controls",
          "model_module_version": "1.5.0",
          "model_name": "DescriptionStyleModel",
          "state": {
            "_model_module": "@jupyter-widgets/controls",
            "_model_module_version": "1.5.0",
            "_model_name": "DescriptionStyleModel",
            "_view_count": null,
            "_view_module": "@jupyter-widgets/base",
            "_view_module_version": "1.2.0",
            "_view_name": "StyleView",
            "description_width": ""
          }
        },
        "bcfd5e96dc1742d9abe4ed3195fdc1f4": {
          "model_module": "@jupyter-widgets/controls",
          "model_module_version": "1.5.0",
          "model_name": "DescriptionStyleModel",
          "state": {
            "_model_module": "@jupyter-widgets/controls",
            "_model_module_version": "1.5.0",
            "_model_name": "DescriptionStyleModel",
            "_view_count": null,
            "_view_module": "@jupyter-widgets/base",
            "_view_module_version": "1.2.0",
            "_view_name": "StyleView",
            "description_width": ""
          }
        },
        "be722a1b396c460ca55766b373d08e79": {
          "model_module": "@jupyter-widgets/base",
          "model_module_version": "1.2.0",
          "model_name": "LayoutModel",
          "state": {
            "_model_module": "@jupyter-widgets/base",
            "_model_module_version": "1.2.0",
            "_model_name": "LayoutModel",
            "_view_count": null,
            "_view_module": "@jupyter-widgets/base",
            "_view_module_version": "1.2.0",
            "_view_name": "LayoutView",
            "align_content": null,
            "align_items": null,
            "align_self": null,
            "border": null,
            "bottom": null,
            "display": null,
            "flex": null,
            "flex_flow": null,
            "grid_area": null,
            "grid_auto_columns": null,
            "grid_auto_flow": null,
            "grid_auto_rows": null,
            "grid_column": null,
            "grid_gap": null,
            "grid_row": null,
            "grid_template_areas": null,
            "grid_template_columns": null,
            "grid_template_rows": null,
            "height": null,
            "justify_content": null,
            "justify_items": null,
            "left": null,
            "margin": null,
            "max_height": null,
            "max_width": null,
            "min_height": null,
            "min_width": null,
            "object_fit": null,
            "object_position": null,
            "order": null,
            "overflow": null,
            "overflow_x": null,
            "overflow_y": null,
            "padding": null,
            "right": null,
            "top": null,
            "visibility": null,
            "width": null
          }
        },
        "c0366bd3e64b4c56af894955e90984a1": {
          "model_module": "@jupyter-widgets/base",
          "model_module_version": "1.2.0",
          "model_name": "LayoutModel",
          "state": {
            "_model_module": "@jupyter-widgets/base",
            "_model_module_version": "1.2.0",
            "_model_name": "LayoutModel",
            "_view_count": null,
            "_view_module": "@jupyter-widgets/base",
            "_view_module_version": "1.2.0",
            "_view_name": "LayoutView",
            "align_content": null,
            "align_items": null,
            "align_self": null,
            "border": null,
            "bottom": null,
            "display": null,
            "flex": null,
            "flex_flow": null,
            "grid_area": null,
            "grid_auto_columns": null,
            "grid_auto_flow": null,
            "grid_auto_rows": null,
            "grid_column": null,
            "grid_gap": null,
            "grid_row": null,
            "grid_template_areas": null,
            "grid_template_columns": null,
            "grid_template_rows": null,
            "height": null,
            "justify_content": null,
            "justify_items": null,
            "left": null,
            "margin": null,
            "max_height": null,
            "max_width": null,
            "min_height": null,
            "min_width": null,
            "object_fit": null,
            "object_position": null,
            "order": null,
            "overflow": null,
            "overflow_x": null,
            "overflow_y": null,
            "padding": null,
            "right": null,
            "top": null,
            "visibility": null,
            "width": null
          }
        },
        "c7fe2a0cc55d486390c7dc23b3c718e1": {
          "model_module": "@jupyter-widgets/base",
          "model_module_version": "1.2.0",
          "model_name": "LayoutModel",
          "state": {
            "_model_module": "@jupyter-widgets/base",
            "_model_module_version": "1.2.0",
            "_model_name": "LayoutModel",
            "_view_count": null,
            "_view_module": "@jupyter-widgets/base",
            "_view_module_version": "1.2.0",
            "_view_name": "LayoutView",
            "align_content": null,
            "align_items": null,
            "align_self": null,
            "border": null,
            "bottom": null,
            "display": null,
            "flex": null,
            "flex_flow": null,
            "grid_area": null,
            "grid_auto_columns": null,
            "grid_auto_flow": null,
            "grid_auto_rows": null,
            "grid_column": null,
            "grid_gap": null,
            "grid_row": null,
            "grid_template_areas": null,
            "grid_template_columns": null,
            "grid_template_rows": null,
            "height": null,
            "justify_content": null,
            "justify_items": null,
            "left": null,
            "margin": null,
            "max_height": null,
            "max_width": null,
            "min_height": null,
            "min_width": null,
            "object_fit": null,
            "object_position": null,
            "order": null,
            "overflow": null,
            "overflow_x": null,
            "overflow_y": null,
            "padding": null,
            "right": null,
            "top": null,
            "visibility": null,
            "width": null
          }
        },
        "d6ddde726d77471b93453b50039ccee7": {
          "model_module": "@jupyter-widgets/controls",
          "model_module_version": "1.5.0",
          "model_name": "LabelModel",
          "state": {
            "_dom_classes": [],
            "_model_module": "@jupyter-widgets/controls",
            "_model_module_version": "1.5.0",
            "_model_name": "LabelModel",
            "_view_count": null,
            "_view_module": "@jupyter-widgets/controls",
            "_view_module_version": "1.5.0",
            "_view_name": "LabelView",
            "description": "",
            "description_tooltip": null,
            "layout": "IPY_MODEL_c0366bd3e64b4c56af894955e90984a1",
            "placeholder": "​",
            "style": "IPY_MODEL_da5e98bc89824d08bf693992f58410ff",
            "value": "Connecting..."
          }
        },
        "da5e98bc89824d08bf693992f58410ff": {
          "model_module": "@jupyter-widgets/controls",
          "model_module_version": "1.5.0",
          "model_name": "DescriptionStyleModel",
          "state": {
            "_model_module": "@jupyter-widgets/controls",
            "_model_module_version": "1.5.0",
            "_model_name": "DescriptionStyleModel",
            "_view_count": null,
            "_view_module": "@jupyter-widgets/base",
            "_view_module_version": "1.2.0",
            "_view_name": "StyleView",
            "description_width": ""
          }
        },
        "da9f7ab1c1364dee88ea0966eb20d80d": {
          "model_module": "@jupyter-widgets/base",
          "model_module_version": "1.2.0",
          "model_name": "LayoutModel",
          "state": {
            "_model_module": "@jupyter-widgets/base",
            "_model_module_version": "1.2.0",
            "_model_name": "LayoutModel",
            "_view_count": null,
            "_view_module": "@jupyter-widgets/base",
            "_view_module_version": "1.2.0",
            "_view_name": "LayoutView",
            "align_content": null,
            "align_items": null,
            "align_self": null,
            "border": null,
            "bottom": null,
            "display": null,
            "flex": null,
            "flex_flow": null,
            "grid_area": null,
            "grid_auto_columns": null,
            "grid_auto_flow": null,
            "grid_auto_rows": null,
            "grid_column": null,
            "grid_gap": null,
            "grid_row": null,
            "grid_template_areas": null,
            "grid_template_columns": null,
            "grid_template_rows": null,
            "height": null,
            "justify_content": null,
            "justify_items": null,
            "left": null,
            "margin": null,
            "max_height": null,
            "max_width": null,
            "min_height": null,
            "min_width": null,
            "object_fit": null,
            "object_position": null,
            "order": null,
            "overflow": null,
            "overflow_x": null,
            "overflow_y": null,
            "padding": null,
            "right": null,
            "top": null,
            "visibility": null,
            "width": null
          }
        },
        "efaaab211b2f410b864b786efc6329d2": {
          "model_module": "@jupyter-widgets/base",
          "model_module_version": "1.2.0",
          "model_name": "LayoutModel",
          "state": {
            "_model_module": "@jupyter-widgets/base",
            "_model_module_version": "1.2.0",
            "_model_name": "LayoutModel",
            "_view_count": null,
            "_view_module": "@jupyter-widgets/base",
            "_view_module_version": "1.2.0",
            "_view_name": "LayoutView",
            "align_content": null,
            "align_items": null,
            "align_self": null,
            "border": null,
            "bottom": null,
            "display": null,
            "flex": null,
            "flex_flow": null,
            "grid_area": null,
            "grid_auto_columns": null,
            "grid_auto_flow": null,
            "grid_auto_rows": null,
            "grid_column": null,
            "grid_gap": null,
            "grid_row": null,
            "grid_template_areas": null,
            "grid_template_columns": null,
            "grid_template_rows": null,
            "height": null,
            "justify_content": null,
            "justify_items": null,
            "left": null,
            "margin": null,
            "max_height": null,
            "max_width": null,
            "min_height": null,
            "min_width": null,
            "object_fit": null,
            "object_position": null,
            "order": null,
            "overflow": null,
            "overflow_x": null,
            "overflow_y": null,
            "padding": null,
            "right": null,
            "top": null,
            "visibility": null,
            "width": null
          }
        }
      }
    }
  },
  "nbformat": 4,
  "nbformat_minor": 0
}
