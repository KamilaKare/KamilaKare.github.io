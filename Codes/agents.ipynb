{
 "cells": [
  {
   "cell_type": "code",
   "execution_count": null,
   "id": "30d2eb82",
   "metadata": {},
   "outputs": [],
   "source": []
  },
  {
   "cell_type": "code",
   "execution_count": 1,
   "id": "d0c96991",
   "metadata": {},
   "outputs": [],
   "source": [
    "from dotenv import load_dotenv\n",
    "# Load environment variables from .env file\n",
    "\n",
    "import os\n",
    "load_dotenv()\n",
    "OPENAI_API_KEY = os.getenv(\"openai_key\")"
   ]
  },
  {
   "cell_type": "code",
   "execution_count": 39,
   "id": "fe5780a4",
   "metadata": {},
   "outputs": [],
   "source": [
    "from langchain_openai import ChatOpenAI\n",
    "from langchain.tools import Tool\n",
    "from langchain.agents import initialize_agent, AgentType\n",
    "\n",
    "# --- Initialize the LLM ---\n",
    "llm = ChatOpenAI(model=\"gpt-4o-mini\", temperature=0, openai_api_key=OPENAI_API_KEY)\n",
    "\n",
    "# --- Define your tools ---\n",
    "def add_numbers(a: float, b: float) -> float:\n",
    "    \"\"\"Add two numbers and return the sum.\"\"\"\n",
    "    return a + b\n",
    "\n",
    "def get_weather(city: str) -> str:\n",
    "    \"\"\"Pretend to get the weather (demo mode).\"\"\"\n",
    "    return f\"The weather in {city} is sunny ☀️ (demo mode).\"\n",
    "\n",
    "# Wrap tools for LangChain\n",
    "tools = [\n",
    "    Tool(\n",
    "        name=\"Add Numbers\",\n",
    "        func=lambda x: add_numbers(*[float(i) for i in x.split()]),\n",
    "        description=\"Add two numbers provided as input, separated by a space. Example: '2.5 7.3'\"\n",
    "    ),\n",
    "    Tool(\n",
    "        name=\"Get Weather\",\n",
    "        func=get_weather,\n",
    "        description=\"Get the weather for a given city name.\"\n",
    "    )\n",
    "]\n",
    "\n",
    "\n",
    "# --- Initialize the agent ---\n",
    "agent = initialize_agent(\n",
    "    tools=tools,\n",
    "    llm=llm,\n",
    "    agent_type=AgentType.ZERO_SHOT_REACT_DESCRIPTION,\n",
    "    verbose=True\n",
    ")\n"
   ]
  },
  {
   "cell_type": "code",
   "execution_count": 40,
   "id": "7da3e968",
   "metadata": {},
   "outputs": [
    {
     "name": "stdout",
     "output_type": "stream",
     "text": [
      "\n",
      "\n",
      "\u001b[1m> Entering new AgentExecutor chain...\u001b[0m\n",
      "\u001b[32;1m\u001b[1;3mI need to get the weather for Paris and also perform the addition of the numbers 2.5 and 7.3. I'll start with the weather request.\n",
      "\n",
      "Action: Get Weather  \n",
      "Action Input: \"Paris\"  \u001b[0m\n",
      "Observation: \u001b[33;1m\u001b[1;3mThe weather in Paris is sunny ☀️ (demo mode).\u001b[0m\n",
      "Thought:\u001b[32;1m\u001b[1;3mI have obtained the weather information for Paris. Now, I will proceed to add the numbers 2.5 and 7.3.\n",
      "\n",
      "Action: Add Numbers  \n",
      "Action Input: \"2.5 7.3\"  \u001b[0m\n",
      "Observation: \u001b[36;1m\u001b[1;3m9.8\u001b[0m\n",
      "Thought:\u001b[32;1m\u001b[1;3mI now know the final answer, which includes both the weather in Paris and the result of the addition. \n",
      "\n",
      "Final Answer: The weather in Paris is sunny ☀️ and 2.5 + 7.3 equals 9.8.\u001b[0m\n",
      "\n",
      "\u001b[1m> Finished chain.\u001b[0m\n",
      "\n",
      "💬 Agent Answer:\n",
      " The weather in Paris is sunny ☀️ and 2.5 + 7.3 equals 9.8.\n"
     ]
    }
   ],
   "source": [
    "query = \"Hi! Can you tell me the weather in Paris and add 2.5 + 7.3?\"\n",
    "response = agent.invoke(query)\n",
    "print(\"\\n💬 Agent Answer:\\n\", response[\"output\"])\n"
   ]
  },
  {
   "cell_type": "code",
   "execution_count": 42,
   "id": "735fa381",
   "metadata": {},
   "outputs": [
    {
     "name": "stdout",
     "output_type": "stream",
     "text": [
      "\n",
      "\n",
      "\u001b[1m> Entering new AgentExecutor chain...\u001b[0m\n",
      "\u001b[32;1m\u001b[1;3mI need to gather information about Ada Lovelace, her contributions, and significance in history. \n",
      "Action: DuckDuckGo Search\n",
      "Action Input: \"Who is Ada Lovelace?\"\u001b[0m\n",
      "Observation: \u001b[36;1m\u001b[1;3mAugusta Ada King, Countess of Lovelace, also known as Ada Lovelace, was an English mathematician and writer chiefly known for her work on Charles Babbage's proposed mechanical general-purpose computer, the Analytical Engine. She was the first to recognise that the machine had applications beyond pure calculation. Ada Lovelace is sometimes considered to be the first computer programmer. Ada Lovelace was the only legitimate child of poet Lord Byron and reformer Anne Isabella Milbanke. All her half-siblings, Lord Byron's other children, were born out of wedlock to other women. Lord Byron separated from his wife a month after Ada was born and left England forever. He died in Greece whilst fighting in the Greek War of Independence, when she was eight. Lady Byron was anxious about her daughter's upbringing and promoted Lovelace's interest in mathematics and logic in an effort to prevent her from developing her father's perceived insanity.\u001b[0m\n",
      "Thought:\u001b[32;1m\u001b[1;3mI have gathered sufficient information about Ada Lovelace, including her background, contributions to mathematics and computing, and her significance in history. \n",
      "\n",
      "Final Answer: Ada Lovelace, born Augusta Ada King, Countess of Lovelace, was an English mathematician and writer known for her work on Charles Babbage's Analytical Engine. She is often regarded as the first computer programmer for recognizing the machine's potential beyond mere calculation. She was the legitimate daughter of poet Lord Byron and was raised with a strong emphasis on mathematics and logic by her mother.\u001b[0m\n",
      "\n",
      "\u001b[1m> Finished chain.\u001b[0m\n",
      "\n",
      "💬 Agent Answer:\n",
      " Ada Lovelace, born Augusta Ada King, Countess of Lovelace, was an English mathematician and writer known for her work on Charles Babbage's Analytical Engine. She is often regarded as the first computer programmer for recognizing the machine's potential beyond mere calculation. She was the legitimate daughter of poet Lord Byron and was raised with a strong emphasis on mathematics and logic by her mother.\n"
     ]
    }
   ],
   "source": [
    "from langchain_openai import ChatOpenAI\n",
    "from langchain.agents import initialize_agent, AgentType\n",
    "from langchain.tools import Tool\n",
    "import requests\n",
    "\n",
    "def simple_duckduckgo_search(query: str) -> str:\n",
    "    \"\"\"Stable fallback web search using DuckDuckGo Instant Answer API.\"\"\"\n",
    "    try:\n",
    "        resp = requests.get(\n",
    "            \"https://api.duckduckgo.com/\",\n",
    "            params={\"q\": query, \"format\": \"json\", \"no_html\": 1, \"no_redirect\": 1},\n",
    "            timeout=10\n",
    "        )\n",
    "        data = resp.json()\n",
    "        if data.get(\"AbstractText\"):\n",
    "            return data[\"AbstractText\"]\n",
    "        elif data.get(\"RelatedTopics\"):\n",
    "            results = [t.get(\"Text\") for t in data[\"RelatedTopics\"] if \"Text\" in t]\n",
    "            return \"\\n\".join(results[:3])\n",
    "        else:\n",
    "            return \"No relevant results found.\"\n",
    "    except Exception as e:\n",
    "        return f\"Search error: {e}\"\n",
    "\n",
    "tools = [\n",
    "    Tool(\n",
    "        name=\"DuckDuckGo Search\",\n",
    "        func=simple_duckduckgo_search,\n",
    "        description=\"Look up people or topics on the web.\"\n",
    "    )\n",
    "]\n",
    "\n",
    "# --- create agent with tool ---\n",
    "agent = initialize_agent(\n",
    "    tools=tools,\n",
    "    llm=llm,\n",
    "    agent_type=AgentType.ZERO_SHOT_REACT_DESCRIPTION,\n",
    "    verbose=True\n",
    ")\n",
    "\n",
    "# --- ask the question ---\n",
    "query = \"Who is Ada Lovelace?\"\n",
    "response = agent.invoke(query)\n",
    "\n",
    "print(\"\\n💬 Agent Answer:\\n\", response[\"output\"])\n"
   ]
  },
  {
   "cell_type": "code",
   "execution_count": null,
   "id": "df4a1ed1",
   "metadata": {},
   "outputs": [],
   "source": []
  }
 ],
 "metadata": {
  "kernelspec": {
   "display_name": "Python 3",
   "language": "python",
   "name": "python3"
  },
  "language_info": {
   "codemirror_mode": {
    "name": "ipython",
    "version": 3
   },
   "file_extension": ".py",
   "mimetype": "text/x-python",
   "name": "python",
   "nbconvert_exporter": "python",
   "pygments_lexer": "ipython3",
   "version": "3.12.10"
  }
 },
 "nbformat": 4,
 "nbformat_minor": 5
}
