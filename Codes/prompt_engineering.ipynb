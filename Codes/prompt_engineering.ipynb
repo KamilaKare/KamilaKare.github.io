{
 "cells": [
  {
   "cell_type": "code",
   "execution_count": 1,
   "metadata": {},
   "outputs": [
    {
     "name": "stdout",
     "output_type": "stream",
     "text": [
      "Defaulting to user installation because normal site-packages is not writeable\n",
      "Requirement already satisfied: python-dotenv in c:\\users\\kamila\\appdata\\local\\packages\\pythonsoftwarefoundation.python.3.12_qbz5n2kfra8p0\\localcache\\local-packages\\python312\\site-packages (1.1.0)\n"
     ]
    }
   ],
   "source": [
    "\n",
    "# update or install the necessary libraries\n",
    "!pip install --upgrade openai\n",
    "!pip install --upgrade langchain\n",
    "!pip install --upgrade python-dotenv\n"
   ]
  },
  {
   "cell_type": "code",
   "execution_count": 42,
   "metadata": {},
   "outputs": [],
   "source": [
    "from dotenv import load_dotenv\n",
    "import openai\n",
    "# Load environment variables from .env file\n",
    "\n",
    "import os\n",
    "load_dotenv()\n",
    "OPENAI_API_KEY = os.getenv(\"openai_key\")"
   ]
  },
  {
   "cell_type": "code",
   "execution_count": 46,
   "metadata": {},
   "outputs": [
    {
     "name": "stdout",
     "output_type": "stream",
     "text": [
      "As the moonlight danced on the shimmering lake, a gentle unicorn named Luna spread her iridescent wings and soared through the starry sky, spreading dreams of magic and wonder to all the sleeping children below.\n"
     ]
    }
   ],
   "source": [
    "from openai import OpenAI\n",
    "client = OpenAI(api_key=OPENAI_API_KEY)\n",
    "\n",
    "completion = client.chat.completions.create(\n",
    "    model=\"gpt-4o-mini\",\n",
    "    messages=[\n",
    "        {\n",
    "            \"role\": \"user\",\n",
    "            \"content\": \"Write a one-sentence bedtime story about a unicorn.\"\n",
    "        }\n",
    "    ],\n",
    "    temperature=0.1,\n",
    ")\n",
    "\n",
    "print(completion.choices[0].message.content)"
   ]
  },
  {
   "cell_type": "code",
   "execution_count": 49,
   "metadata": {},
   "outputs": [],
   "source": [
    "def set_open_params(\n",
    "    model=\"gpt-4o-mini\",\n",
    "    temperature=0.7,\n",
    "    max_tokens=256,\n",
    "    top_p=1,\n",
    "    frequency_penalty=0,\n",
    "    presence_penalty=0,\n",
    "):\n",
    "    \"\"\" set openai parameters\"\"\"\n",
    "\n",
    "    openai_params = {}    \n",
    "\n",
    "    openai_params['model'] = model\n",
    "    openai_params['temperature'] = temperature\n",
    "    openai_params['max_tokens'] = max_tokens\n",
    "    openai_params['top_p'] = top_p\n",
    "    openai_params['frequency_penalty'] = frequency_penalty\n",
    "    openai_params['presence_penalty'] = presence_penalty\n",
    "    return openai_params\n",
    "\n",
    "def get_completion(params, messages):\n",
    "    \"\"\" GET completion from openai api\"\"\"\n",
    "\n",
    "    response = client.chat.completions.create(\n",
    "        model = params['model'],\n",
    "        messages = messages,\n",
    "        temperature = params['temperature'],\n",
    "        max_tokens = params['max_tokens'],\n",
    "        top_p = params['top_p'],\n",
    "        frequency_penalty = params['frequency_penalty'],\n",
    "        presence_penalty = params['presence_penalty'],\n",
    "    )\n",
    "    return response\n",
    "\n"
   ]
  },
  {
   "cell_type": "code",
   "execution_count": 50,
   "metadata": {},
   "outputs": [],
   "source": [
    "# basic example\n",
    "params = set_open_params()\n",
    "\n",
    "prompt = \"The sky is\"\n",
    "\n",
    "messages = [\n",
    "    {\n",
    "        \"role\": \"user\",\n",
    "        \"content\": prompt\n",
    "    }\n",
    "]\n",
    "\n",
    "response = get_completion(params, messages)"
   ]
  },
  {
   "cell_type": "code",
   "execution_count": 51,
   "metadata": {},
   "outputs": [
    {
     "data": {
      "text/plain": [
       "'The sky is a vast expanse above us, often filled with clouds, sunlight, or stars depending on the time of day. It can reflect a range of colors during sunrise and sunset, from soft pastels to vibrant hues. The sky plays a crucial role in weather patterns and is home to various phenomena such as rainbows, lightning, and the movement of celestial bodies. What specific aspect of the sky are you interested in?'"
      ]
     },
     "execution_count": 51,
     "metadata": {},
     "output_type": "execute_result"
    }
   ],
   "source": [
    "response.choices[0].message.content"
   ]
  },
  {
   "cell_type": "markdown",
   "metadata": {},
   "source": [
    "## Try with different temperature to compare results:"
   ]
  },
  {
   "cell_type": "code",
   "execution_count": 37,
   "metadata": {},
   "outputs": [
    {
     "data": {
      "text/plain": [
       "'The sky is a vast expanse above us, often filled with clouds, stars, and the sun or moon. It can change colors throughout the day, from the bright blue of midday to the warm hues of sunrise and sunset. The sky also plays a crucial role in weather patterns and is home to various atmospheric phenomena. What specific aspect of the sky are you interested in?'"
      ]
     },
     "execution_count": 37,
     "metadata": {},
     "output_type": "execute_result"
    }
   ],
   "source": [
    "params = set_open_params(temperature=0)\n",
    "response = get_completion(params, messages)\n",
    "response.choices[0].message.content"
   ]
  },
  {
   "cell_type": "markdown",
   "metadata": {},
   "source": [
    "## 1.1 Text summarization\n"
   ]
  },
  {
   "cell_type": "code",
   "execution_count": 53,
   "metadata": {},
   "outputs": [
    {
     "data": {
      "text/plain": [
       "'Antibiotics are medications that treat bacterial infections by killing bacteria or inhibiting their reproduction, but they are ineffective against viruses and can contribute to antibiotic resistance if misused.'"
      ]
     },
     "execution_count": 53,
     "metadata": {},
     "output_type": "execute_result"
    }
   ],
   "source": [
    "params = set_open_params(temperature=0.7)\n",
    "prompt = \"\"\"Antibiotics are a type of medication used to treat bacterial infections. They work by either killing the bacteria or preventing them from reproducing, allowing the body's immune system to fight off the infection. Antibiotics are usually taken orally in the form of pills, capsules, or liquid solutions, or sometimes administered intravenously. They are not effective against viral infections, and using them inappropriately can lead to antibiotic resistance. \n",
    "\n",
    "Explain the above in one sentence\"\"\"\n",
    "\n",
    "messages = [\n",
    "    {\n",
    "        \"role\": \"user\",\n",
    "        \"content\": prompt\n",
    "    }\n",
    "]\n",
    "\n",
    "response = get_completion(params, messages)\n",
    "response.choices[0].message.content"
   ]
  },
  {
   "cell_type": "markdown",
   "metadata": {},
   "source": [
    "### Exercise: Instruct the model to explain the paragraph in one sentence like \"I am 5\". Do you see any differences?"
   ]
  },
  {
   "cell_type": "markdown",
   "metadata": {},
   "source": [
    "## 1.2 Question Answering"
   ]
  },
  {
   "cell_type": "code",
   "execution_count": 54,
   "metadata": {},
   "outputs": [
    {
     "data": {
      "text/plain": [
       "'Mice'"
      ]
     },
     "execution_count": 54,
     "metadata": {},
     "output_type": "execute_result"
    }
   ],
   "source": [
    "prompt = \"\"\"Answer the question based on the context below. Keep the answer short and concise. Respond \"Unsure about answer\" if not sure about the answer.\n",
    "\n",
    "Context: Teplizumab traces its roots to a New Jersey drug company called Ortho Pharmaceutical. There, scientists generated an early version of the antibody, dubbed OKT3. Originally sourced from mice, the molecule was able to bind to the surface of T cells and limit their cell-killing potential. In 1986, it was approved to help prevent organ rejection after kidney transplants, making it the first therapeutic antibody allowed for human use.\n",
    "\n",
    "Question: What was OKT3 originally sourced from?\n",
    "\n",
    "Answer:\"\"\"\n",
    "\n",
    "messages = [\n",
    "    {\n",
    "        \"role\": \"user\",\n",
    "        \"content\": prompt\n",
    "    }\n",
    "]\n",
    "\n",
    "response = get_completion(params, messages)\n",
    "response.choices[0].message.content"
   ]
  },
  {
   "cell_type": "markdown",
   "metadata": {},
   "source": [
    "## 1.3 Text classification"
   ]
  },
  {
   "cell_type": "code",
   "execution_count": 55,
   "metadata": {},
   "outputs": [],
   "source": [
    "prompt = \"\"\"Classify the text into neutral, negative or positive.\n",
    "\n",
    "Text: I think the food was okay.\n",
    "\n",
    "Sentiment:\"\"\"\n",
    "\n",
    "messages = [\n",
    "    {\n",
    "        \"role\": \"user\",\n",
    "        \"content\": prompt\n",
    "    }\n",
    "]\n",
    "\n",
    "response = get_completion(params, messages)\n",
    "response.choices[0].message.content"
   ]
  },
  {
   "cell_type": "markdown",
   "metadata": {},
   "source": [
    "Exercise: Modify the prompt to instruct the model to provide an explanation to the answer selected."
   ]
  },
  {
   "cell_type": "code",
   "execution_count": 56,
   "metadata": {},
   "outputs": [],
   "source": [
    "## 1.4 Reasoning"
   ]
  },
  {
   "cell_type": "code",
   "execution_count": 58,
   "metadata": {},
   "outputs": [
    {
     "name": "stdout",
     "output_type": "stream",
     "text": [
      "Let's break the problem down into steps:\n",
      "\n",
      "### Step 1: Identify the odd numbers in the group\n",
      "\n",
      "The given numbers are: 15, 32, 5, 13, 82, 7, 1.\n",
      "\n",
      "The odd numbers from this group are:\n",
      "- 15\n",
      "- 5\n",
      "- 13\n",
      "- 7\n",
      "- 1\n",
      "\n",
      "### Step 2: Add the identified odd numbers\n",
      "\n",
      "Now, let's add the odd numbers together:\n",
      "\n",
      "\\[\n",
      "15 + 5 + 13 + 7 + 1\n",
      "\\]\n",
      "\n",
      "Calculating step by step:\n",
      "- \\(15 + 5 = 20\\)\n",
      "- \\(20 + 13 = 33\\)\n",
      "- \\(33 + 7 = 40\\)\n",
      "- \\(40 + 1 = 41\\)\n",
      "\n",
      "So, the sum of the odd numbers is \\(41\\).\n",
      "\n",
      "### Step 3: Determine whether the result is odd or even\n",
      "\n",
      "The result, \\(41\\), is an odd number.\n",
      "\n",
      "### Conclusion\n",
      "\n",
      "The odd numbers in the group add up to \\(41\\), which is odd, not even. Therefore, the statement \"The odd numbers in this group add up to an even number\" is incorrect.\n"
     ]
    }
   ],
   "source": [
    "prompt = \"\"\"The odd numbers in this group add up to an even number: 15, 32, 5, 13, 82, 7, 1. \n",
    "\n",
    "Solve by breaking the problem into steps. First, identify the odd numbers, add them, and indicate whether the result is odd or even.\"\"\"\n",
    "\n",
    "messages = [\n",
    "    {\n",
    "        \"role\": \"user\",\n",
    "        \"content\": prompt\n",
    "    }\n",
    "]\n",
    "\n",
    "response = get_completion(params, messages)\n",
    "print(response.choices[0].message.content)"
   ]
  },
  {
   "cell_type": "markdown",
   "metadata": {},
   "source": [
    "# 2. Advanced Prompting Techniques"
   ]
  },
  {
   "cell_type": "markdown",
   "metadata": {},
   "source": [
    "## 2.1 Few-shots prompt"
   ]
  },
  {
   "cell_type": "code",
   "execution_count": 59,
   "metadata": {},
   "outputs": [
    {
     "name": "stdout",
     "output_type": "stream",
     "text": [
      "To determine if the sum of the odd numbers in the group adds up to an even number, we first identify the odd numbers from the group provided: \n",
      "\n",
      "The odd numbers in the group 15, 32, 5, 13, 82, 7, 1 are:\n",
      "- 15\n",
      "- 5\n",
      "- 13\n",
      "- 7\n",
      "- 1\n",
      "\n",
      "Now, we calculate the sum of these odd numbers:\n",
      "\n",
      "15 + 5 = 20  \n",
      "20 + 13 = 33  \n",
      "33 + 7 = 40  \n",
      "40 + 1 = 41  \n",
      "\n",
      "The sum of the odd numbers is 41, which is an odd number.\n",
      "\n",
      "Therefore, the answer is **False**.\n"
     ]
    }
   ],
   "source": [
    "prompt = \"\"\"The odd numbers in this group add up to an even number: 4, 8, 9, 15, 12, 2, 1.\n",
    "A: The answer is False.\n",
    "\n",
    "The odd numbers in this group add up to an even number: 17,  10, 19, 4, 8, 12, 24.\n",
    "A: The answer is True.\n",
    "\n",
    "The odd numbers in this group add up to an even number: 16,  11, 14, 4, 8, 13, 24.\n",
    "A: The answer is True.\n",
    "\n",
    "The odd numbers in this group add up to an even number: 17,  9, 10, 12, 13, 4, 2.\n",
    "A: The answer is False.\n",
    "\n",
    "The odd numbers in this group add up to an even number: 15, 32, 5, 13, 82, 7, 1. \n",
    "A:\"\"\"\n",
    "\n",
    "messages = [\n",
    "    {\n",
    "        \"role\": \"user\",\n",
    "        \"content\": prompt\n",
    "    }\n",
    "]\n",
    "\n",
    "response = get_completion(params, messages)\n",
    "print(response.choices[0].message.content)"
   ]
  },
  {
   "cell_type": "markdown",
   "metadata": {},
   "source": [
    "## 2.2 Chain-of-Thought (CoT) Prompting"
   ]
  },
  {
   "cell_type": "code",
   "execution_count": 60,
   "metadata": {},
   "outputs": [
    {
     "name": "stdout",
     "output_type": "stream",
     "text": [
      "Let's identify the odd numbers in the group: 15, 5, 13, 7, 1.\n",
      "\n",
      "Now, we add them up:\n",
      "\n",
      "15 + 5 + 13 + 7 + 1 = 41.\n",
      "\n",
      "Since 41 is an odd number, the statement is False. The odd numbers in this group do not add up to an even number.\n"
     ]
    }
   ],
   "source": [
    "prompt = \"\"\"The odd numbers in this group add up to an even number: 4, 8, 9, 15, 12, 2, 1.\n",
    "A: Adding all the odd numbers (9, 15, 1) gives 25. The answer is False.\n",
    "\n",
    "The odd numbers in this group add up to an even number: 15, 32, 5, 13, 82, 7, 1. \n",
    "A:\"\"\"\n",
    "\n",
    "messages = [\n",
    "    {\n",
    "        \"role\": \"user\",\n",
    "        \"content\": prompt\n",
    "    }\n",
    "]\n",
    "\n",
    "response = get_completion(params, messages)\n",
    "print(response.choices[0].message.content)"
   ]
  },
  {
   "cell_type": "markdown",
   "metadata": {},
   "source": [
    "## 2.3 Zero-shot CoT"
   ]
  },
  {
   "cell_type": "code",
   "execution_count": 62,
   "metadata": {},
   "outputs": [
    {
     "name": "stdout",
     "output_type": "stream",
     "text": [
      "Let's break it down step by step:\n",
      "\n",
      "1. You started with 10 apples.\n",
      "2. You gave 2 apples to the neighbor: \n",
      "   - 10 - 2 = 8 apples left.\n",
      "3. You gave 2 apples to the repairman: \n",
      "   - 8 - 2 = 6 apples left.\n",
      "4. You bought 5 more apples: \n",
      "   - 6 + 5 = 11 apples left.\n",
      "5. You ate 1 apple: \n",
      "   - 11 - 1 = 10 apples left.\n",
      "\n",
      "So, you remain with **10 apples**.\n"
     ]
    }
   ],
   "source": [
    "prompt = \"\"\"I went to the market and bought 10 apples. I gave 2 apples to the neighbor and 2 to the repairman. I then went and bought 5 more apples and ate 1. How many apples did I remain with?\n",
    "\n",
    "Let's think step by step.\"\"\"\n",
    "\n",
    "messages = [\n",
    "    {\n",
    "        \"role\": \"user\",\n",
    "        \"content\": prompt\n",
    "    }\n",
    "]\n",
    "\n",
    "response = get_completion(params, messages)\n",
    "print(response.choices[0].message.content)"
   ]
  },
  {
   "cell_type": "markdown",
   "metadata": {},
   "source": [
    "## 2.4 Self consistency"
   ]
  },
  {
   "cell_type": "code",
   "execution_count": 67,
   "metadata": {},
   "outputs": [
    {
     "name": "stdout",
     "output_type": "stream",
     "text": [
      "To calculate \\(17 \\times 4\\) step by step, you can break it down like this:\n",
      "\n",
      "1. Start with the number 17.\n",
      "2. Multiply it by 4. You can do this by adding 17 four times:\n",
      "   - \\(17 + 17 = 34\\)\n",
      "   - \\(34 + 17 = 51\\)\n",
      "   - \\(51 + 17 = 68\\)\n",
      "\n",
      "So, \\(17 \\times 4 = 68\\).\n",
      "\n",
      "Therefore, the answer is **68**.\n",
      "To calculate \\( 17 \\times 4 \\) step by step, you can break it down as follows:\n",
      "\n",
      "1. Start with the number 17.\n",
      "2. Multiply 17 by 4.\n",
      "\n",
      "You can think of it as adding 17 four times:\n",
      "\n",
      "\\[\n",
      "17 + 17 + 17 + 17\n",
      "\\]\n",
      "\n",
      "Calculating that step-by-step:\n",
      "\n",
      "- First, \\( 17 + 17 = 34 \\)\n",
      "- Next, add another 17: \\( 34 + 17 = 51 \\)\n",
      "- Finally, add the last 17: \\( 51 + 17 = 68 \\)\n",
      "\n",
      "So, \\( 17 \\times 4 = 68 \\).\n",
      "\n",
      "Therefore, the answer is \\( 68 \\).\n",
      "To calculate \\( 17 \\times 4 \\), we can break it down step by step:\n",
      "\n",
      "1. **Understanding the multiplication**: Multiplication is essentially adding a number to itself a certain number of times. In this case, we are adding 17 four times.\n",
      "\n",
      "2. **Calculating step by step**:\n",
      "   - First, calculate \\( 17 + 17 = 34 \\).\n",
      "   - Next, add another 17: \\( 34 + 17 = 51 \\).\n",
      "   - Finally, add the last 17: \\( 51 + 17 = 68 \\).\n",
      "\n",
      "So, \\( 17 \\times 4 = 68 \\).\n",
      "\n",
      "Thus, the answer is **68**.\n",
      "To find the product of 17 and 4 step by step, we can break it down as follows:\n",
      "\n",
      "1. Start with the number 17.\n",
      "2. Multiply it by 4: \n",
      "\n",
      "   17 × 4 = 68\n",
      "\n",
      "So, 17 times 4 equals **68**.\n",
      "To find the product of 17 and 4 step by step, you can break it down as follows:\n",
      "\n",
      "1. **Understand the multiplication**: You need to add 17 four times.\n",
      "2. **Add 17 repeatedly**:\n",
      "   - First addition: 17 + 17 = 34\n",
      "   - Second addition: 34 + 17 = 51\n",
      "   - Third addition: 51 + 17 = 68\n",
      "\n",
      "3. **Alternatively, use the traditional multiplication method**:\n",
      "   - 4 multiplied by 7 gives 28. Write down 8 and carry over 2.\n",
      "   - 4 multiplied by 1 (from 17) gives 4. Add the 2 carried over, resulting in 6.\n",
      "\n",
      "Thus, 17 times 4 equals 68.\n",
      "\n",
      "**Final answer**: 68\n",
      "[('**68**.', 3)]\n"
     ]
    }
   ],
   "source": [
    "from collections import Counter\n",
    "\n",
    "\n",
    "cot_prompt = \"\"\"What is 17 times 4? Let's think step by step.\"\"\"\n",
    "\n",
    "# Generate multiple CoT reasoning paths\n",
    "answers = []\n",
    "for _ in range(5):\n",
    "    response = client.chat.completions.create(\n",
    "        model=\"gpt-4o-mini\",\n",
    "        messages=[{\"role\": \"user\", \"content\": cot_prompt + \" Answer:\"}],\n",
    "        max_tokens=200\n",
    "    )\n",
    "    print(response.choices[0].message.content)\n",
    "    answers.append(response.choices[0].message.content.split()[-1])  # Take final answer word\n",
    "\n",
    " \n",
    "# Vote for the most common answer\n",
    "print(Counter(answers).most_common(1))\n"
   ]
  },
  {
   "cell_type": "code",
   "execution_count": 68,
   "metadata": {},
   "outputs": [
    {
     "data": {
      "text/plain": [
       "Counter({'**68**.': 3, '\\\\).': 1, '68': 1})"
      ]
     },
     "execution_count": 68,
     "metadata": {},
     "output_type": "execute_result"
    }
   ],
   "source": [
    "Counter(answers)"
   ]
  },
  {
   "cell_type": "markdown",
   "metadata": {},
   "source": [
    "## 2.5 Prompt chaining"
   ]
  },
  {
   "cell_type": "code",
   "execution_count": 70,
   "metadata": {},
   "outputs": [
    {
     "name": "stdout",
     "output_type": "stream",
     "text": [
      "AI mimics human cognitive functions and is increasingly integrated into various industries, with recent advancements enhancing its capabilities, while ethical considerations of fairness, transparency, and accountability are essential for its responsible development and societal benefits.\n"
     ]
    }
   ],
   "source": [
    "# Prompt Chaining: Decompose a task into sub-tasks\n",
    "doc = \"\"\"\n",
    "Artificial Intelligence (AI): A New Era of Innovation\n",
    "\n",
    "Artificial Intelligence, commonly referred to as AI, represents one of the most transformative technologies of the 21st century. At its core, AI enables machines to mimic human cognitive functions such as learning, reasoning, problem-solving, and decision-making. From self-driving cars to intelligent virtual assistants, AI systems are increasingly embedded into our daily lives, reshaping industries like healthcare, finance, education, and entertainment.\n",
    "\n",
    "Recent advancements in deep learning, natural language processing, and computer vision have accelerated AI's capabilities, allowing machines not only to perform complex tasks but also to generate creative content, understand emotions, and interact more naturally with humans. As AI continues to evolve, it holds immense potential to solve global challenges — from predicting climate patterns to personalizing medicine.\n",
    "\n",
    "However, with this great power comes the responsibility to address ethical considerations, such as fairness, transparency, and accountability. Ensuring that AI systems are developed and deployed responsibly will be key to unlocking their full benefits for society.\n",
    "\n",
    "\n",
    "\"\"\"\n",
    "\n",
    "# Step 1: Extract key facts\n",
    "extract = client.chat.completions.create(\n",
    "    model=\"gpt-4o-mini\",\n",
    "    messages=[{\"role\": \"user\", \"content\": f\"Extract three key facts from the text:\\n{doc}\"}],\n",
    "    max_tokens=200\n",
    ")\n",
    "facts = extract.choices[0].message.content\n",
    "\n",
    "# Step 2: Summarize the extracted facts\n",
    "summary = client.chat.completions.create(\n",
    "    model=\"gpt-4o-mini\",\n",
    "    messages=[{\"role\": \"user\", \"content\": f\"Summarize these facts in one sentence:\\n{facts}\"}],\n",
    "    max_tokens=300\n",
    ")\n",
    "\n",
    "print(summary.choices[0].message.content.strip())\n"
   ]
  },
  {
   "cell_type": "code",
   "execution_count": null,
   "metadata": {},
   "outputs": [],
   "source": []
  }
 ],
 "metadata": {
  "kernelspec": {
   "display_name": "Python 3",
   "language": "python",
   "name": "python3"
  },
  "language_info": {
   "codemirror_mode": {
    "name": "ipython",
    "version": 3
   },
   "file_extension": ".py",
   "mimetype": "text/x-python",
   "name": "python",
   "nbconvert_exporter": "python",
   "pygments_lexer": "ipython3",
   "version": "3.12.10"
  }
 },
 "nbformat": 4,
 "nbformat_minor": 2
}
